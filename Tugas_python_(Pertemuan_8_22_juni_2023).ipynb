{
  "nbformat": 4,
  "nbformat_minor": 0,
  "metadata": {
    "colab": {
      "provenance": []
    },
    "kernelspec": {
      "name": "python3",
      "display_name": "Python 3"
    },
    "language_info": {
      "name": "python"
    }
  },
  "cells": [
    {
      "cell_type": "markdown",
      "source": [
        "Nama : Nera Sagita Fradityas\n",
        "\n",
        "NIM : 2100015014\n",
        "\n",
        "TUGAS PSDS PYTHON (PERTEMUAN 8)"
      ],
      "metadata": {
        "id": "qdSgj_uhVrjB"
      }
    },
    {
      "cell_type": "markdown",
      "source": [
        "#**STRUKTUR DATA LIST**"
      ],
      "metadata": {
        "id": "U7GdNEGVLcbj"
      }
    },
    {
      "cell_type": "markdown",
      "source": [
        "List adalah jenis kumpulan data terurut (ordered sequence), bisa diubah elemennya (mutable), bisa ditambahkan elemen baru atau menghapus elemen (changeable), dan merupakan salah satu variabel yang sering digunakan pada python. Serupa, namun tak sama dengan array pada bahasa pemrograman lainnya. Bedannya, elemen List pada python tidak harus memiliki tipe data yang sama. Mendeklarasikan List cukup muda dengan kurang siku dan elemen yang dipisahkan dengan koma.\n",
        "Setiap data dalam nya dapat diakses dengan indeks yang dimulai dari 0."
      ],
      "metadata": {
        "id": "go24Fvv5LphR"
      }
    },
    {
      "cell_type": "code",
      "execution_count": null,
      "metadata": {
        "colab": {
          "base_uri": "https://localhost:8080/"
        },
        "id": "tM0Rl6nULUJt",
        "outputId": "734fab06-451e-41e1-cc2f-f369b4248fce"
      },
      "outputs": [
        {
          "output_type": "stream",
          "name": "stdout",
          "text": [
            "<class 'list'>\n"
          ]
        }
      ],
      "source": [
        "#Contoh List\n",
        "L1 = [1,4,3,13]\n",
        "print(type(L1))"
      ]
    },
    {
      "cell_type": "code",
      "source": [
        "L2 = [\"a\", \"python\", 3]\n",
        "print(type(L2))"
      ],
      "metadata": {
        "colab": {
          "base_uri": "https://localhost:8080/"
        },
        "id": "15FIE2gnMjUF",
        "outputId": "b4b51503-cda2-491c-b85e-a1bffc97e174"
      },
      "execution_count": null,
      "outputs": [
        {
          "output_type": "stream",
          "name": "stdout",
          "text": [
            "<class 'list'>\n"
          ]
        }
      ]
    },
    {
      "cell_type": "code",
      "source": [
        "print(L1)\n",
        "print(L2)"
      ],
      "metadata": {
        "colab": {
          "base_uri": "https://localhost:8080/"
        },
        "id": "J6h-NLVLMu3z",
        "outputId": "1ab0c4dd-9bf4-46ff-cf01-1bb18757dc40"
      },
      "execution_count": null,
      "outputs": [
        {
          "output_type": "stream",
          "name": "stdout",
          "text": [
            "[1, 4, 3, 13]\n",
            "['a', 'python', 3]\n"
          ]
        }
      ]
    },
    {
      "cell_type": "markdown",
      "source": [
        "**Indeks di python (List, Tuple) mulai dari 0**"
      ],
      "metadata": {
        "id": "VniAuBrZM-O2"
      }
    },
    {
      "cell_type": "markdown",
      "source": [
        "Sifat-Sifat List"
      ],
      "metadata": {
        "id": "F_8Na2cARW3a"
      }
    },
    {
      "cell_type": "code",
      "source": [
        "#Terurut/Ordered\n",
        "print(\"Memanggil List L1 dengan indeks urutan\", L1[0:3])"
      ],
      "metadata": {
        "colab": {
          "base_uri": "https://localhost:8080/"
        },
        "id": "T9FR9ityRbAg",
        "outputId": "a85e991b-4e40-4d52-c2b1-69c60494e13d"
      },
      "execution_count": null,
      "outputs": [
        {
          "output_type": "stream",
          "name": "stdout",
          "text": [
            "Memanggil List L1 dengan indeks urutan [1, 4, 3]\n"
          ]
        }
      ]
    },
    {
      "cell_type": "code",
      "source": [
        "#Bisa Diganti/Mutable\n",
        "L1[1] = 2\n",
        "print(\"List L1 setelah diganti elemennya:\", L1)\n",
        "\n",
        "L1 = [1, \"dua\", True, 2+3j]"
      ],
      "metadata": {
        "colab": {
          "base_uri": "https://localhost:8080/"
        },
        "id": "l0pcjQsTRgcP",
        "outputId": "915d6dbb-263c-4f29-de14-d281804733bc"
      },
      "execution_count": null,
      "outputs": [
        {
          "output_type": "stream",
          "name": "stdout",
          "text": [
            "List L1 setelah diganti elemennya: [1, 2, 3, 13]\n"
          ]
        }
      ]
    },
    {
      "cell_type": "code",
      "source": [
        "#Dapat Diindeks/Slicing\n",
        "print(\"Slicing List L1\", L1[3])"
      ],
      "metadata": {
        "colab": {
          "base_uri": "https://localhost:8080/"
        },
        "id": "DwkbF-8CRhwB",
        "outputId": "59b10f4e-31a4-45b0-e936-99a8711ee4bb"
      },
      "execution_count": null,
      "outputs": [
        {
          "output_type": "stream",
          "name": "stdout",
          "text": [
            "Slicing List L1 (2+3j)\n"
          ]
        }
      ]
    },
    {
      "cell_type": "code",
      "source": [
        "#Dapat Dijadikan Duplikasi\n",
        "L1 = [1,\"dua\", True, 2+3j, 2+3j]\n",
        "print(\"Duplikasi pada List L1:\", L1)"
      ],
      "metadata": {
        "colab": {
          "base_uri": "https://localhost:8080/"
        },
        "id": "RAyO_Lj5SHhy",
        "outputId": "deb2f2a2-f6bc-46b7-d705-007c4cd1c8a2"
      },
      "execution_count": null,
      "outputs": [
        {
          "output_type": "stream",
          "name": "stdout",
          "text": [
            "Duplikasi pada List L1: [1, 'dua', True, (2+3j), (2+3j)]\n"
          ]
        }
      ]
    },
    {
      "cell_type": "code",
      "source": [
        "#Dapat mengubah data dengan mengganti elemen tertentu\n",
        "L1 = [1, \"dua\",True, 2+3j]\n",
        "L1[2] = 3\n",
        "print(\"Dapat setelah diubah:\", L1)"
      ],
      "metadata": {
        "colab": {
          "base_uri": "https://localhost:8080/"
        },
        "id": "d8n6Fk9GSLh5",
        "outputId": "d47d1b9b-b342-4a98-d1c7-36bfd80cffd8"
      },
      "execution_count": null,
      "outputs": [
        {
          "output_type": "stream",
          "name": "stdout",
          "text": [
            "Dapat setelah diubah: [1, 'dua', 3, (2+3j)]\n"
          ]
        }
      ]
    },
    {
      "cell_type": "code",
      "source": [
        "#Dapat menambahkan elemen baru pada data\n",
        "L1 = [1, \"dua\", True, 2+3j]\n",
        "L1.append(20)\n",
        "print(\"Data setelah ditambahkan elemen:\", L1)"
      ],
      "metadata": {
        "colab": {
          "base_uri": "https://localhost:8080/"
        },
        "id": "eDL1V0tFSOMX",
        "outputId": "9305e507-8169-4dbd-f9e5-fb46d00515e2"
      },
      "execution_count": null,
      "outputs": [
        {
          "output_type": "stream",
          "name": "stdout",
          "text": [
            "Data setelah ditambahkan elemen: [1, 'dua', True, (2+3j), 20]\n"
          ]
        }
      ]
    },
    {
      "cell_type": "code",
      "source": [
        "#Dapat menghapus elemen pada data (remove() = menghapus berdasarkan nama objek)\n",
        "L1 = [1, \"dua\", True, 2+3j]\n",
        "print(\"Data setelah dihapus elemennya:\", L1)"
      ],
      "metadata": {
        "colab": {
          "base_uri": "https://localhost:8080/"
        },
        "id": "55mGdgguM0V3",
        "outputId": "65669303-0314-49bc-90c3-f4c344a3d68b"
      },
      "execution_count": null,
      "outputs": [
        {
          "output_type": "stream",
          "name": "stdout",
          "text": [
            "Data setelah dihapus elemennya: [1, 'dua', True, (2+3j)]\n"
          ]
        }
      ]
    },
    {
      "cell_type": "code",
      "source": [
        "#Menambahkan data menggunakan fungsi extend (menambah elemen baru pada List namun elemen tersebut ditambahkan secara individual)\n",
        "L1 = [1, \"dua\", True, 2+3j]\n",
        "L1.extend(\"nanas\")\n",
        "print(L1)\n",
        "\n",
        "L1 = [1, \"dua\", True, 2+3j]\n",
        "L1.extend([\"nanas\"])\n",
        "print(L1)"
      ],
      "metadata": {
        "colab": {
          "base_uri": "https://localhost:8080/"
        },
        "id": "UaVuzt_GPAaQ",
        "outputId": "6bdd57eb-0225-47de-b487-552118d41906"
      },
      "execution_count": null,
      "outputs": [
        {
          "output_type": "stream",
          "name": "stdout",
          "text": [
            "[1, 'dua', True, (2+3j), 'n', 'a', 'n', 'a', 's']\n",
            "[1, 'dua', True, (2+3j), 'nanas']\n"
          ]
        }
      ]
    },
    {
      "cell_type": "code",
      "source": [
        "#Menambahkan data menggunakan fungsi insert(menambahkan elemen baru di List pada indeks tertentu)\n",
        "L1 = [1, \"dua\", True, 2+3j]\n",
        "L1.insert(2,5)\n",
        "print(L1)"
      ],
      "metadata": {
        "colab": {
          "base_uri": "https://localhost:8080/"
        },
        "id": "f4534OjjPlXl",
        "outputId": "77d3a1a9-63cc-40e6-e3da-60c19abdf224"
      },
      "execution_count": null,
      "outputs": [
        {
          "output_type": "stream",
          "name": "stdout",
          "text": [
            "[1, 'dua', 5, True, (2+3j)]\n"
          ]
        }
      ]
    },
    {
      "cell_type": "code",
      "source": [
        "#Menghapus elemen dari List menggunakan fungsi pop() (menghapus berdasarkan indeks)\n",
        "L1 = [1, \"dua\", True, 2+3j]\n",
        "L1.pop(2)\n",
        "print(L1)\n",
        "\n",
        "L1 = [1, \"dua\", True, 2+3j]\n",
        "L1.pop()\n",
        "print(L1)"
      ],
      "metadata": {
        "colab": {
          "base_uri": "https://localhost:8080/"
        },
        "id": "672PkI3jQH-F",
        "outputId": "7e064515-6263-4e2b-c655-ba6db50999f7"
      },
      "execution_count": null,
      "outputs": [
        {
          "output_type": "stream",
          "name": "stdout",
          "text": [
            "[1, 'dua', (2+3j)]\n",
            "[1, 'dua', True]\n"
          ]
        }
      ]
    },
    {
      "cell_type": "markdown",
      "source": [
        "Latihan 1"
      ],
      "metadata": {
        "id": "8UwjCkcbQyz2"
      }
    },
    {
      "cell_type": "code",
      "source": [
        "#Contoh List\n",
        "L1 = [9,10,5,4]\n",
        "print(type(L1))"
      ],
      "metadata": {
        "colab": {
          "base_uri": "https://localhost:8080/"
        },
        "id": "k7G4Yn3jQvHU",
        "outputId": "52a0ed68-d9eb-44f1-d98c-aec44d5be9cb"
      },
      "execution_count": null,
      "outputs": [
        {
          "output_type": "stream",
          "name": "stdout",
          "text": [
            "<class 'list'>\n"
          ]
        }
      ]
    },
    {
      "cell_type": "code",
      "source": [
        "L2 = [\"True\", \"a+b\", 3]\n",
        "print(type(L2))"
      ],
      "metadata": {
        "colab": {
          "base_uri": "https://localhost:8080/"
        },
        "id": "IIdpGIQCS8IW",
        "outputId": "496ad6c7-ba0a-42ef-fed3-f927b3b0958b"
      },
      "execution_count": null,
      "outputs": [
        {
          "output_type": "stream",
          "name": "stdout",
          "text": [
            "<class 'list'>\n"
          ]
        }
      ]
    },
    {
      "cell_type": "code",
      "source": [
        "print(L1)\n",
        "print(L2)"
      ],
      "metadata": {
        "colab": {
          "base_uri": "https://localhost:8080/"
        },
        "id": "AZnquLWuTaKQ",
        "outputId": "692d9679-7257-4c61-c5ed-86735473fdc6"
      },
      "execution_count": null,
      "outputs": [
        {
          "output_type": "stream",
          "name": "stdout",
          "text": [
            "[9, 10, 5, 4]\n",
            "['True', 'a+b', 3]\n"
          ]
        }
      ]
    },
    {
      "cell_type": "code",
      "source": [
        "#Dapat Dijadikan Duplikasi\n",
        "L1 = [False, \"python\", 3+6j, 4]\n",
        "print(\"Duplikasi pada List L1:\", L1)"
      ],
      "metadata": {
        "colab": {
          "base_uri": "https://localhost:8080/"
        },
        "id": "2mgBJw-fUAW5",
        "outputId": "a2f344a4-746e-4db2-fc90-b715eb7387c9"
      },
      "execution_count": null,
      "outputs": [
        {
          "output_type": "stream",
          "name": "stdout",
          "text": [
            "Duplikasi pada List L1: [False, 'python', (3+6j), 4]\n"
          ]
        }
      ]
    },
    {
      "cell_type": "code",
      "source": [
        "#Dapat mengubah data dengan mengganti elemen tertentu\n",
        "L1 = [False, \"python\", 3+6j, 4]\n",
        "L1[2] = 6\n",
        "print(\"Dapat setelah diubah:\", L1)"
      ],
      "metadata": {
        "colab": {
          "base_uri": "https://localhost:8080/"
        },
        "id": "FN3hg5L9Tgx7",
        "outputId": "03765f9b-aa53-40b0-b9cd-ba062cd20786"
      },
      "execution_count": null,
      "outputs": [
        {
          "output_type": "stream",
          "name": "stdout",
          "text": [
            "Dapat setelah diubah: [False, 'python', 6, 4]\n"
          ]
        }
      ]
    },
    {
      "cell_type": "code",
      "source": [
        "#Dapat menambahkan elemen baru pada data\n",
        "L1 = [False, \"python\", 3+6j, 4]\n",
        "L1.append(10)\n",
        "print(\"Data setelah ditambahkan elemen:\", L1)"
      ],
      "metadata": {
        "colab": {
          "base_uri": "https://localhost:8080/"
        },
        "id": "xauikt7CT6ZD",
        "outputId": "c60d23bd-45ce-4d91-cb06-15d7f85f01f9"
      },
      "execution_count": null,
      "outputs": [
        {
          "output_type": "stream",
          "name": "stdout",
          "text": [
            "Data setelah ditambahkan elemen: [False, 'python', (3+6j), 4, 10]\n"
          ]
        }
      ]
    },
    {
      "cell_type": "code",
      "source": [
        "#Dapat menghapus elemen pada data (remove() = menghapus berdasarkan nama objek)\n",
        "L1 = [False, \"python\", 3+6j, 4]\n",
        "print(\"Data setelah dihapus elemennya:\", L1)"
      ],
      "metadata": {
        "colab": {
          "base_uri": "https://localhost:8080/"
        },
        "id": "OPb0RHa_U7mW",
        "outputId": "92dfd9a8-2bea-418e-911c-6bef72f67d7e"
      },
      "execution_count": null,
      "outputs": [
        {
          "output_type": "stream",
          "name": "stdout",
          "text": [
            "Data setelah dihapus elemennya: [False, 'python', (3+6j), 4]\n"
          ]
        }
      ]
    },
    {
      "cell_type": "code",
      "source": [
        "#Menambahkan data menggunakan fungsi extend (menambah elemen baru pada List namun elemen tersebut ditambahkan secara individual)\n",
        "L1 = [False, \"python\", 3+6j, 4]\n",
        "L1.extend(\"PSDS\")\n",
        "print(L1)\n",
        "\n",
        "L1 = [False, \"python\", 3+6j, 4]\n",
        "L1.extend([\"PSDS\"])\n",
        "print(L1)"
      ],
      "metadata": {
        "colab": {
          "base_uri": "https://localhost:8080/"
        },
        "id": "If1ZDD7xU93C",
        "outputId": "efad6c37-1090-4943-d9cf-7fa7c31a74d5"
      },
      "execution_count": null,
      "outputs": [
        {
          "output_type": "stream",
          "name": "stdout",
          "text": [
            "[False, 'python', (3+6j), 4, 'P', 'S', 'D', 'S']\n",
            "[False, 'python', (3+6j), 4, 'PSDS']\n"
          ]
        }
      ]
    },
    {
      "cell_type": "code",
      "source": [
        "#Menambahkan data menggunakan fungsi insert(menambahkan elemen baru di List pada indeks tertentu)\n",
        "L1 = [False, \"python\", 3+6j, 4]\n",
        "L1.insert(5,6)\n",
        "print(L1)"
      ],
      "metadata": {
        "colab": {
          "base_uri": "https://localhost:8080/"
        },
        "id": "gen38gcmU_sV",
        "outputId": "e72ba0b0-edcb-4918-aa2e-7cfa5fc2c775"
      },
      "execution_count": null,
      "outputs": [
        {
          "output_type": "stream",
          "name": "stdout",
          "text": [
            "[False, 'python', (3+6j), 4, 6]\n"
          ]
        }
      ]
    },
    {
      "cell_type": "code",
      "source": [
        "#Menghapus elemen dari List menggunakan fungsi pop() (menghapus berdasarkan indeks)\n",
        "L1 = [False, \"python\", 3+6j, 4]\n",
        "L1.pop(2)\n",
        "print(L1)\n",
        "\n",
        "L1 = [False, \"python\", 3+6j, 4]\n",
        "L1.pop()\n",
        "print(L1)"
      ],
      "metadata": {
        "colab": {
          "base_uri": "https://localhost:8080/"
        },
        "id": "qiA9mQ8RVD8s",
        "outputId": "95e25515-eb16-415b-fbfc-3ab5236a2402"
      },
      "execution_count": null,
      "outputs": [
        {
          "output_type": "stream",
          "name": "stdout",
          "text": [
            "[False, 'python', 4]\n",
            "[False, 'python', (3+6j)]\n"
          ]
        }
      ]
    }
  ]
}